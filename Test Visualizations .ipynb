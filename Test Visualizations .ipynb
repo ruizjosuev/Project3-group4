{
 "cells": [
  {
   "cell_type": "code",
   "execution_count": 1,
   "id": "f2f07cb3-2eac-4d4e-8279-cb7701f18f93",
   "metadata": {},
   "outputs": [],
   "source": [
    " # Import the dependencies\n",
    "import pandas as pd\n",
    "import numpy as np\n",
    "import datetime\n",
    "\n",
    "# Plotting\n",
    "import matplotlib.pyplot as plt\n",
    "import seaborn as sns\n",
    "\n",
    "# ORM Stuff\n",
    "from sqlalchemy import create_engine, inspect, text, func"
   ]
  },
  {
   "cell_type": "code",
   "execution_count": 2,
   "id": "297b023c-7572-4f06-9ba2-d2b25bbccd66",
   "metadata": {},
   "outputs": [],
   "source": [
    "# Create engine using the `ev_charging_stations.sqlite` database file\n",
    "engine = create_engine(\"sqlite:///ev_charging_stations.sqlite\")"
   ]
  },
  {
   "cell_type": "code",
   "execution_count": 3,
   "id": "30af541e-5844-4eea-9c5c-23506b114954",
   "metadata": {},
   "outputs": [
    {
     "name": "stdout",
     "output_type": "stream",
     "text": [
      "ev_charging_stations\n",
      "--------\n",
      "Station ID TEXT\n",
      "Latitude FLOAT\n",
      "Longitude FLOAT\n",
      "Address TEXT\n",
      "Charger Type TEXT\n",
      "Cost (USD/kWh) FLOAT\n",
      "Distance to City (km) FLOAT\n",
      "Usage Stats (avg users/day) BIGINT\n",
      "Station Operator TEXT\n",
      "Charging Capacity (kW) BIGINT\n",
      "Connector Types TEXT\n",
      "Installation Year BIGINT\n",
      "Renewable Energy Source TEXT\n",
      "Reviews (Rating) FLOAT\n",
      "Parking Spots BIGINT\n",
      "Maintenance Frequency TEXT\n",
      "\n"
     ]
    }
   ],
   "source": [
    "  # Create the inspector and connect it to the engine\n",
    "inspector = inspect(engine)\n",
    "\n",
    "# Collect the names of tables within the database\n",
    "tables = inspector.get_table_names()\n",
    "\n",
    "# Using the inspector to print the column names within the 'dow' table and its types\n",
    "for table in tables:\n",
    "    print(table)\n",
    "    print(\"--------\")\n",
    "    columns = inspector.get_columns(table)\n",
    "    for column in columns:\n",
    "        print(column[\"name\"], column[\"type\"])\n",
    "\n",
    "    print()"
   ]
  },
  {
   "cell_type": "code",
   "execution_count": 4,
   "id": "f71d025e-4d4a-4dc2-9633-52c839735410",
   "metadata": {},
   "outputs": [],
   "source": [
    " conn = engine.connect() # Raw SQL/Pandas"
   ]
  },
  {
   "cell_type": "code",
   "execution_count": 5,
   "id": "c2b1e8d1-f7f8-426c-ab57-e8e8a63e0972",
   "metadata": {},
   "outputs": [
    {
     "data": {
      "text/html": [
       "<div>\n",
       "<style scoped>\n",
       "    .dataframe tbody tr th:only-of-type {\n",
       "        vertical-align: middle;\n",
       "    }\n",
       "\n",
       "    .dataframe tbody tr th {\n",
       "        vertical-align: top;\n",
       "    }\n",
       "\n",
       "    .dataframe thead th {\n",
       "        text-align: right;\n",
       "    }\n",
       "</style>\n",
       "<table border=\"1\" class=\"dataframe\">\n",
       "  <thead>\n",
       "    <tr style=\"text-align: right;\">\n",
       "      <th></th>\n",
       "      <th>Installation Year</th>\n",
       "      <th>station_count</th>\n",
       "    </tr>\n",
       "  </thead>\n",
       "  <tbody>\n",
       "    <tr>\n",
       "      <th>0</th>\n",
       "      <td>2010</td>\n",
       "      <td>337</td>\n",
       "    </tr>\n",
       "    <tr>\n",
       "      <th>1</th>\n",
       "      <td>2011</td>\n",
       "      <td>337</td>\n",
       "    </tr>\n",
       "    <tr>\n",
       "      <th>2</th>\n",
       "      <td>2012</td>\n",
       "      <td>350</td>\n",
       "    </tr>\n",
       "    <tr>\n",
       "      <th>3</th>\n",
       "      <td>2013</td>\n",
       "      <td>373</td>\n",
       "    </tr>\n",
       "    <tr>\n",
       "      <th>4</th>\n",
       "      <td>2014</td>\n",
       "      <td>335</td>\n",
       "    </tr>\n",
       "    <tr>\n",
       "      <th>5</th>\n",
       "      <td>2015</td>\n",
       "      <td>385</td>\n",
       "    </tr>\n",
       "    <tr>\n",
       "      <th>6</th>\n",
       "      <td>2016</td>\n",
       "      <td>346</td>\n",
       "    </tr>\n",
       "    <tr>\n",
       "      <th>7</th>\n",
       "      <td>2017</td>\n",
       "      <td>374</td>\n",
       "    </tr>\n",
       "    <tr>\n",
       "      <th>8</th>\n",
       "      <td>2018</td>\n",
       "      <td>354</td>\n",
       "    </tr>\n",
       "    <tr>\n",
       "      <th>9</th>\n",
       "      <td>2019</td>\n",
       "      <td>345</td>\n",
       "    </tr>\n",
       "  </tbody>\n",
       "</table>\n",
       "</div>"
      ],
      "text/plain": [
       "   Installation Year  station_count\n",
       "0               2010            337\n",
       "1               2011            337\n",
       "2               2012            350\n",
       "3               2013            373\n",
       "4               2014            335\n",
       "5               2015            385\n",
       "6               2016            346\n",
       "7               2017            374\n",
       "8               2018            354\n",
       "9               2019            345"
      ]
     },
     "execution_count": 5,
     "metadata": {},
     "output_type": "execute_result"
    }
   ],
   "source": [
    "#RAW SQL\n",
    "query = text(\"\"\"SELECT \"Installation Year\", COUNT(*) AS station_count\n",
    "    FROM ev_charging_stations\n",
    "    GROUP BY \"Installation Year\"\n",
    "    ORDER BY \"Installation Year\";\n",
    "\"\"\")\n",
    "\n",
    "df1 = pd.read_sql(query, con=conn)\n",
    "df1.head(10)"
   ]
  },
  {
   "cell_type": "code",
   "execution_count": 36,
   "id": "18fcf8fa-050b-412d-81c9-4b1b4d9a7b2a",
   "metadata": {},
   "outputs": [
    {
     "data": {
      "image/png": "[encoded data removed]",
      "text/plain": [
       "<Figure size 640x480 with 1 Axes>"
      ]
     },
     "metadata": {},
     "output_type": "display_data"
    }
   ],
   "source": [
    "#Visualization: Line chart showing the number of charging stations installed per year.\n",
    "plt.plot(df1[\"Installation Year\"], df1[\"station_count\"], marker=\"o\", color=\"firebrick\", linestyle=\"-\")\n",
    "plt.title(\"Charging Stations Installed Per Year\")\n",
    "plt.xlabel(\"Installation Year\")\n",
    "plt.ylabel(\"station_count\")\n",
    "plt.show()\n"
   ]
  },
  {
   "cell_type": "code",
   "execution_count": 28,
   "id": "e8456122-3d09-4c8c-bb7c-fcdb10cf076d",
   "metadata": {},
   "outputs": [
    {
     "data": {
      "text/html": [
       "<div>\n",
       "<style scoped>\n",
       "    .dataframe tbody tr th:only-of-type {\n",
       "        vertical-align: middle;\n",
       "    }\n",
       "\n",
       "    .dataframe tbody tr th {\n",
       "        vertical-align: top;\n",
       "    }\n",
       "\n",
       "    .dataframe thead th {\n",
       "        text-align: right;\n",
       "    }\n",
       "</style>\n",
       "<table border=\"1\" class=\"dataframe\">\n",
       "  <thead>\n",
       "    <tr style=\"text-align: right;\">\n",
       "      <th></th>\n",
       "      <th>Cost (USD/kWh)</th>\n",
       "      <th>Usage Stats (avg users/day)</th>\n",
       "    </tr>\n",
       "  </thead>\n",
       "  <tbody>\n",
       "    <tr>\n",
       "      <th>0</th>\n",
       "      <td>0.27</td>\n",
       "      <td>35</td>\n",
       "    </tr>\n",
       "    <tr>\n",
       "      <th>1</th>\n",
       "      <td>0.19</td>\n",
       "      <td>83</td>\n",
       "    </tr>\n",
       "    <tr>\n",
       "      <th>2</th>\n",
       "      <td>0.48</td>\n",
       "      <td>24</td>\n",
       "    </tr>\n",
       "    <tr>\n",
       "      <th>3</th>\n",
       "      <td>0.41</td>\n",
       "      <td>70</td>\n",
       "    </tr>\n",
       "    <tr>\n",
       "      <th>4</th>\n",
       "      <td>0.11</td>\n",
       "      <td>19</td>\n",
       "    </tr>\n",
       "    <tr>\n",
       "      <th>5</th>\n",
       "      <td>0.22</td>\n",
       "      <td>39</td>\n",
       "    </tr>\n",
       "    <tr>\n",
       "      <th>6</th>\n",
       "      <td>0.40</td>\n",
       "      <td>89</td>\n",
       "    </tr>\n",
       "    <tr>\n",
       "      <th>7</th>\n",
       "      <td>0.26</td>\n",
       "      <td>72</td>\n",
       "    </tr>\n",
       "    <tr>\n",
       "      <th>8</th>\n",
       "      <td>0.49</td>\n",
       "      <td>68</td>\n",
       "    </tr>\n",
       "    <tr>\n",
       "      <th>9</th>\n",
       "      <td>0.37</td>\n",
       "      <td>82</td>\n",
       "    </tr>\n",
       "  </tbody>\n",
       "</table>\n",
       "</div>"
      ],
      "text/plain": [
       "   Cost (USD/kWh)  Usage Stats (avg users/day)\n",
       "0            0.27                           35\n",
       "1            0.19                           83\n",
       "2            0.48                           24\n",
       "3            0.41                           70\n",
       "4            0.11                           19\n",
       "5            0.22                           39\n",
       "6            0.40                           89\n",
       "7            0.26                           72\n",
       "8            0.49                           68\n",
       "9            0.37                           82"
      ]
     },
     "execution_count": 28,
     "metadata": {},
     "output_type": "execute_result"
    }
   ],
   "source": [
    "#RAW SQL\n",
    "query = text(\"\"\"SELECT \"Cost (USD/kWh)\", \"Usage Stats (avg users/day)\"\n",
    "FROM ev_charging_stations;\n",
    "\"\"\")\n",
    "\n",
    "df = pd.read_sql(query, con=conn)\n",
    "df.head(10)"
   ]
  },
  {
   "cell_type": "code",
   "execution_count": null,
   "id": "7f20ff51-0d9a-4d03-ab53-de2f8b226a37",
   "metadata": {},
   "outputs": [],
   "source": [
    "#Visualization: Scatter plot to explore if lower charging costs lead to higher usage."
   ]
  },
  {
   "cell_type": "code",
   "execution_count": null,
   "id": "4fd0749b-d0ca-4c22-8c93-f16be7c222e5",
   "metadata": {},
   "outputs": [],
   "source": [
    "#RAW SQL\n",
    "query = text(\"\"\"SELECT \"Latitude\", \"Longitude\"\n",
    "FROM ev_charging_stations;\n",
    "\"\"\")\n",
    "\n",
    "df = pd.read_sql(query, con=conn)\n",
    "df.head(10)"
   ]
  },
  {
   "cell_type": "code",
   "execution_count": null,
   "id": "3cbd3759-5079-4618-a92c-ede673dd982a",
   "metadata": {},
   "outputs": [],
   "source": [
    "#Visualization: Heatmap displaying the density of charging stations geographically."
   ]
  },
  {
   "cell_type": "code",
   "execution_count": null,
   "id": "911b63b1-dae6-45e3-b6ae-e426be0b405c",
   "metadata": {},
   "outputs": [],
   "source": [
    "#RAW SQL\n",
    "query = text(\"\"\"SELECT \"Renewable Energy Source\", COUNT(*) AS count\n",
    "FROM ev_charging_stations\n",
    "GROUP BY \"Renewable Energy Source\";\n",
    "\"\"\")\n",
    "\n",
    "df = pd.read_sql(query, con=conn)\n",
    "df.head(10)"
   ]
  },
  {
   "cell_type": "code",
   "execution_count": null,
   "id": "c0dfb7fe-3519-4143-9d38-916a8e7cd52e",
   "metadata": {},
   "outputs": [],
   "source": [
    "#Visualization: Pie chart showing the percentage of stations powered by renewable energy vs. non-renewable sources.\n",
    "RenewableSource = [\"yes\", \"no\"]\n",
    "count = [2566, 2434]\n",
    "colors = [\"green\", \"blue\"]\n",
    "explode = (0, 0.05)\n",
    "\n",
    "plt.title(\"renewable vs non-renewable\")\n",
    "plt.pie(count, explode=explode, labels=RenewableSource, colors=colors,\n",
    "        autopct=\"%1.1f%%\", shadow=True, startangle=90)\n",
    "plt.axis(\"equal\")\n",
    "plt.show()"
   ]
  },
  {
   "cell_type": "code",
   "execution_count": null,
   "id": "95055eb7-00fa-4741-a1f3-d268c29392de",
   "metadata": {},
   "outputs": [],
   "source": []
  }
 ],
 "metadata": {
  "kernelspec": {
   "display_name": "Python 3",
   "language": "python",
   "name": "python3"
  },
  "language_info": {
   "codemirror_mode": {
    "name": "ipython",
    "version": 3
   },
   "file_extension": ".py",
   "mimetype": "text/x-python",
   "name": "python",
   "nbconvert_exporter": "python",
   "pygments_lexer": "ipython3",
   "version": "3.12.4"
  }
 },
 "nbformat": 4,
 "nbformat_minor": 5
}
