{
 "cells": [
  {
   "cell_type": "code",
   "execution_count": null,
   "id": "f2f07cb3-2eac-4d4e-8279-cb7701f18f93",
   "metadata": {},
   "outputs": [],
   "source": [
    " # Import the dependencies\n",
    "import pandas as pd\n",
    "import numpy as np\n",
    "import datetime\n",
    "\n",
    "# Plotting\n",
    "import matplotlib.pyplot as plt\n",
    "import seaborn as sns\n",
    "\n",
    "# ORM Stuff\n",
    "from sqlalchemy import create_engine, inspect, text, func"
   ]
  },
  {
   "cell_type": "code",
   "execution_count": null,
   "id": "9ebbd7e7-a8ef-41dc-88df-3adbdb000513",
   "metadata": {},
   "outputs": [],
   "source": [
    "df = pd.read_csv(\"detailed_ev_charging_stations.csv\")\n",
    "df.head()"
   ]
  },
  {
   "cell_type": "code",
   "execution_count": null,
   "id": "67229c2e-0f9c-4d88-a339-b26b4d4697d9",
   "metadata": {},
   "outputs": [],
   "source": [
    "engine = create_engine(\"sqlite:///evcharging_station.sqlite\")"
   ]
  },
  {
   "cell_type": "code",
   "execution_count": null,
   "id": "40d80006-7a6f-41c3-a2fa-856505983ff0",
   "metadata": {},
   "outputs": [],
   "source": [
    "# Write to SQL (NOTE I AM USING con=engine) THIS IS WHAT WORKS APPARENTLY WHEN WRITING OUT DATA\n",
    "df.to_sql(name=\"evcharging_station\", con=engine, index=False, if_exists=\"append\", method=\"multi\")"
   ]
  },
  {
   "cell_type": "code",
   "execution_count": null,
   "id": "297b023c-7572-4f06-9ba2-d2b25bbccd66",
   "metadata": {},
   "outputs": [],
   "source": [
    "# Create engine using the `ev_charging_stations.sqlite` database file\n",
    "#engine = create_engine(\"sqlite:///ev_charging_stations.sqlite\")"
   ]
  },
  {
   "cell_type": "code",
   "execution_count": null,
   "id": "30af541e-5844-4eea-9c5c-23506b114954",
   "metadata": {},
   "outputs": [],
   "source": [
    "  # Create the inspector and connect it to the engine\n",
    "inspector = inspect(engine)\n",
    "\n",
    "# Collect the names of tables within the database\n",
    "tables = inspector.get_table_names()\n",
    "\n",
    "# Using the inspector to print the column names within the 'dow' table and its types\n",
    "for table in tables:\n",
    "    print(table)\n",
    "    print(\"--------\")\n",
    "    columns = inspector.get_columns(table)\n",
    "    for column in columns:\n",
    "        print(column[\"name\"], column[\"type\"])\n",
    "\n",
    "    print()"
   ]
  },
  {
   "cell_type": "code",
   "execution_count": null,
   "id": "f71d025e-4d4a-4dc2-9633-52c839735410",
   "metadata": {},
   "outputs": [],
   "source": [
    " conn = engine.connect() # Raw SQL/Pandas"
   ]
  },
  {
   "cell_type": "code",
   "execution_count": null,
   "id": "19c89e9b-f641-4b56-9e1d-048db6d5b0ce",
   "metadata": {},
   "outputs": [],
   "source": [
    "#sql_query = text(\"\"\"\n",
    "#    SELECT \"Station ID\", \"Address\", \"Longitude\", \"Latitude\"  \n",
    " #   FROM evcharging_station\n",
    "  # WHERE \"Address\" LIKE :address_filter;\"\"\")\n",
    "\n",
    "#address_filter = '%Bangkok%' \n",
    "\n",
    "#df = pd.read_sql(sql_query, con=conn, params={\"address_filter\": address_filter})"
   ]
  },
  {
   "cell_type": "code",
   "execution_count": null,
   "id": "bdaab7be-0f34-4720-8d05-1e477cf8db3c",
   "metadata": {},
   "outputs": [],
   "source": [
    "\n",
    "# Import the required libraries\n",
    "import hvplot.pandas\n",
    "import pandas as pd\n",
    "\n",
    "# Turn off warning messages\n",
    "import warnings\n",
    "warnings.filterwarnings(\"ignore\")\n",
    "\n",
    "# Configure the map\n",
    "map_plot_1 = df.hvplot.points(\n",
    "    \"Longitude\",\n",
    "    \"Latitude\",\n",
    "    geo = True,\n",
    "    tiles = \"OSM\",\n",
    "    frame_width = 800,\n",
    "    frame_height = 600    \n",
    ")\n",
    "\n",
    "# Display the map plot\n",
    "map_plot_1"
   ]
  },
  {
   "cell_type": "code",
   "execution_count": null,
   "id": "d6aa6df5-8e22-4575-9247-c0de03506f17",
   "metadata": {},
   "outputs": [],
   "source": [
    "#charger type distribution\n",
    "query = text(\"\"\"SELECT \"Charger Type\", COUNT(*) AS NumberOfStations\n",
    "                FROM evcharging_station\n",
    "                GROUP BY \"Charger Type\"\n",
    "                ORDER BY NumberOfStations DESC;\"\"\")\n",
    "\n",
    "df = pd.read_sql(query, con=conn)\n",
    "df.head(100)"
   ]
  },
  {
   "cell_type": "code",
   "execution_count": null,
   "id": "850a93c9-9741-4e37-8ce4-27924debe3ba",
   "metadata": {},
   "outputs": [],
   "source": [
    "query = text(\"\"\"\n",
    "    SELECT\n",
    "        \"Latitude\",\n",
    "        \"Longitude\",\n",
    "        \"Charger Type\",\n",
    "        COUNT(*) AS NumberOfStations\n",
    "    FROM\n",
    "        evcharging_station \n",
    "    GROUP BY\n",
    "        Latitude,\n",
    "        Longitude,\n",
    "        \"Charger Type\"\n",
    "    ORDER BY\n",
    "        Latitude,\n",
    "        Longitude,\n",
    "        \"Charger Type\";\n",
    "\"\"\")\n",
    "df = pd.read_sql(query, con=conn)\n",
    "df.head(100)"
   ]
  },
  {
   "cell_type": "code",
   "execution_count": null,
   "id": "cf579b67-39fe-4a7f-bbf4-d228877c945e",
   "metadata": {},
   "outputs": [],
   "source": [
    "# 6. Create Bar Chart (using matplotlib)\n",
    "\n",
    "# Group by Charger Type and sum the number of stations\n",
    "charger_type_counts = df.groupby(\"Charger Type\")[\"NumberOfStations\"].sum()\n",
    "\n",
    "plt.figure(figsize=(10, 6))  # Adjust figure size as needed\n",
    "charger_type_counts.plot(kind=\"bar\")  # Create a bar chart\n",
    "plt.title(\"Number of Charging Stations by Charger Type\")\n",
    "plt.xlabel(\"Charger Type\")\n",
    "plt.ylabel(\"Number of Stations\")\n",
    "plt.xticks(rotation=45, ha=\"right\")  # Rotate x-axis labels for readability\n",
    "plt.tight_layout()  # Adjust layout to prevent labels from overlapping\n",
    "plt.show()"
   ]
  },
  {
   "cell_type": "code",
   "execution_count": null,
   "id": "c2b1e8d1-f7f8-426c-ab57-e8e8a63e0972",
   "metadata": {},
   "outputs": [],
   "source": [
    "#RAW SQL\n",
    "query = text(\"\"\"SELECT \"Installation Year\", COUNT(*) AS station_count\n",
    "    FROM evcharging_station\n",
    "    GROUP BY \"Installation Year\"\n",
    "    ORDER BY \"Installation Year\";\n",
    "\"\"\")\n",
    "\n",
    "df1 = pd.read_sql(query, con=conn)\n",
    "df1.head(10)"
   ]
  },
  {
   "cell_type": "code",
   "execution_count": null,
   "id": "18fcf8fa-050b-412d-81c9-4b1b4d9a7b2a",
   "metadata": {},
   "outputs": [],
   "source": [
    "#Visualization: Line chart showing the number of charging stations installed per year.\n",
    "plt.plot(df1[\"Installation Year\"], df1[\"station_count\"], marker=\"o\", color=\"firebrick\", linestyle=\"-\")\n",
    "plt.title(\"Charging Stations Installed Per Year\")\n",
    "plt.xlabel(\"Installation Year\")\n",
    "plt.ylabel(\"station_count\")\n",
    "plt.show()\n"
   ]
  },
  {
   "cell_type": "code",
   "execution_count": null,
   "id": "49a77091-de8c-4eeb-ab8e-aabcc5ccd001",
   "metadata": {},
   "outputs": [],
   "source": [
    "#average charging capacity by charger type\n",
    "query = text(\"\"\"SELECT \"Charger Type\", AVG(\"Charging Capacity (kW)\") AS AverageChargingCapacity\n",
    "                FROM evcharging_station\n",
    "                GROUP BY \"Charger Type\"\n",
    "                ORDER BY AverageChargingCapacity DESC;\"\"\")\n",
    "df = pd.read_sql(query, con=conn)\n",
    "df.head(10)\n"
   ]
  },
  {
   "cell_type": "code",
   "execution_count": null,
   "id": "5eda23bc-b745-4031-90da-0f230b55a04e",
   "metadata": {},
   "outputs": [],
   "source": [
    "#Average Rating by station\n",
    "query = text(\"\"\"SELECT \"Station Operator\", AVG(\"Reviews (Rating)\") AS AverageRating\n",
    "                FROM evcharging_station\n",
    "                GROUP BY \"Station Operator\"\n",
    "                ORDER BY AverageRating DESC;\"\"\")\n",
    "df = pd.read_sql(query, con=conn)\n",
    "df.head(10)"
   ]
  },
  {
   "cell_type": "code",
   "execution_count": null,
   "id": "7f20ff51-0d9a-4d03-ab53-de2f8b226a37",
   "metadata": {},
   "outputs": [],
   "source": [
    "#Visualization: Scatter plot to explore if lower charging costs lead to higher usage."
   ]
  },
  {
   "cell_type": "code",
   "execution_count": null,
   "id": "4fd0749b-d0ca-4c22-8c93-f16be7c222e5",
   "metadata": {},
   "outputs": [],
   "source": [
    "#RAW SQL\n",
    "query = text(\"\"\"SELECT \"Latitude\", \"Longitude\"\n",
    "FROM evcharging_station;\n",
    "\"\"\")\n",
    "\n",
    "df = pd.read_sql(query, con=conn)\n",
    "df.head(10)"
   ]
  },
  {
   "cell_type": "code",
   "execution_count": null,
   "id": "3cbd3759-5079-4618-a92c-ede673dd982a",
   "metadata": {},
   "outputs": [],
   "source": [
    "#Visualization: Heatmap displaying the density of charging stations geographically."
   ]
  },
  {
   "cell_type": "code",
   "execution_count": null,
   "id": "911b63b1-dae6-45e3-b6ae-e426be0b405c",
   "metadata": {},
   "outputs": [],
   "source": [
    "#RAW SQL\n",
    "query = text(\"\"\"SELECT \"Renewable Energy Source\", COUNT(*) AS count\n",
    "FROM evcharging_station\n",
    "GROUP BY \"Renewable Energy Source\";\n",
    "\"\"\")\n",
    "\n",
    "df = pd.read_sql(query, con=conn)\n",
    "df.head(10)"
   ]
  },
  {
   "cell_type": "code",
   "execution_count": null,
   "id": "c0dfb7fe-3519-4143-9d38-916a8e7cd52e",
   "metadata": {},
   "outputs": [],
   "source": [
    "#Visualization: Pie chart showing the percentage of stations powered by renewable energy vs. non-renewable sources.\n",
    "RenewableSource = [\"yes\", \"no\"]\n",
    "count = [2566, 2434]\n",
    "colors = [\"green\", \"blue\"]\n",
    "explode = (0, 0.05)\n",
    "\n",
    "plt.title(\"renewable vs non-renewable\")\n",
    "plt.pie(count, explode=explode, labels=RenewableSource, colors=colors,\n",
    "        autopct=\"%1.1f%%\", shadow=True, startangle=90)\n",
    "plt.axis(\"equal\")\n",
    "plt.show()"
   ]
  },
  {
   "cell_type": "code",
   "execution_count": null,
   "id": "a326792c-c517-4ca9-a75e-9114f5709031",
   "metadata": {},
   "outputs": [],
   "source": [
    "address_filter = '%Bangkok%'  # Define the filter *before* using it\n",
    "\n",
    "query = text(\"\"\"\n",
    "    SELECT \"Station ID\" AS station_id,\n",
    "           \"Address\" AS address,\n",
    "           \"Charger Type\" AS charger_type  \n",
    "    FROM evcharging_station\n",
    "    WHERE \"Address\" LIKE :address_filter\n",
    "    ORDER BY \"Charger Type\";  \n",
    "\"\"\")\n",
    "\n",
    "df = pd.read_sql(query, con=conn, params={\"address_filter\": address_filter}) # Pass the parameters here!\n",
    "\n",
    "print(df.head(100))  # Print the first 10 rows\n",
    "\n",
    "# If you want to see more rows, you can do this:\n",
    "# print(df) # This will print all rows of the dataframe\n",
    "# print(df.to_string()) # This will print all rows and columns of the dataframe\n",
    "\n",
    "#conn.dispose()  # Close the connection when done"
   ]
  },
  {
   "cell_type": "code",
   "execution_count": null,
   "id": "51b64e88-9a14-46ae-a86c-6f08a57c98d1",
   "metadata": {},
   "outputs": [],
   "source": [
    "# Load your dataset (assuming it's a CSV file)\n",
    "df = pd.read_csv(\"detailed_ev_charging_stations.csv\")\n",
    "\n",
    "# Drop the 'Availability' column\n",
    "df.drop(columns=['Availability'], inplace=True)\n",
    "\n",
    "# Save the cleaned dataset\n",
    "df.to_csv(\"cleaned_data.csv\", index=False)"
   ]
  },
  {
   "cell_type": "code",
   "execution_count": null,
   "id": "74c47eee-5023-4850-bc06-78520fb39b44",
   "metadata": {},
   "outputs": [],
   "source": [
    "import pandas as pd\n",
    "import matplotlib.pyplot as plt\n",
    "# Load the data\n",
    "file_path = \"cleaned_data.csv\"\n",
    "df = pd.read_csv(file_path)\n",
    "# Count the number of stations installed each year\n",
    "installation_counts = df[\"Installation Year\"].value_counts().sort_index()\n",
    "# Convert to DataFrame for better readability\n",
    "installation_table = pd.DataFrame({\n",
    "    \"Year\": installation_counts.index,\n",
    "    \"Number of Stations Installed\": installation_counts.values\n",
    "})\n"
   ]
  },
  {
   "cell_type": "code",
   "execution_count": null,
   "id": "b282761f-6b49-4593-afa5-2227137ebabe",
   "metadata": {},
   "outputs": [],
   "source": [
    "# Calculate the cumulative total of stations installed\n",
    "installation_table[\"Total Stations at Year End\"] = installation_table[\"Number of Stations Installed\"].cumsum()\n",
    "# Create a figure with two subplots\n",
    "plt.figure(figsize=(12, 6))\n",
    "# Plot 1: Stations Installed Each Year\n",
    "plt.subplot(1, 2, 1)\n",
    "plt.plot(installation_table[\"Year\"], installation_table[\"Number of Stations Installed\"], marker='o', linestyle='-', color='orange')\n",
    "plt.xlabel(\"Year\")\n",
    "plt.ylabel(\"Number of Stations Installed\")\n",
    "plt.title(\"Stations Installed Each Year\")\n",
    "plt.grid(True)\n",
    "# Plot 2: Total Stations Over the Years\n",
    "plt.subplot(1, 2, 2)\n",
    "plt.plot(installation_table[\"Year\"], installation_table[\"Total Stations at Year End\"], marker='o', linestyle='-', color='blue')\n",
    "plt.xlabel(\"Year\")\n",
    "plt.ylabel(\"Total Stations at Year End\")\n",
    "plt.title(\"Total Stations Over the Years\")\n",
    "plt.grid(True)\n",
    "# Show the plots\n",
    "plt.tight_layout()\n",
    "plt.show()"
   ]
  },
  {
   "cell_type": "code",
   "execution_count": null,
   "id": "fdd6cec0-a10b-4251-88b7-601eda55b92c",
   "metadata": {},
   "outputs": [],
   "source": [
    "conn.close()\n",
    "engine.dispose()"
   ]
  },
  {
   "cell_type": "code",
   "execution_count": null,
   "id": "5a07180e-5f1e-4892-89ac-683e1c1f1603",
   "metadata": {},
   "outputs": [],
   "source": []
  },
  {
   "cell_type": "code",
   "execution_count": null,
   "id": "2578a08e-bb3f-42ea-a9ad-2233602a640a",
   "metadata": {},
   "outputs": [],
   "source": []
  }
 ],
 "metadata": {
  "kernelspec": {
   "display_name": "Python 3 (ipykernel)",
   "language": "python",
   "name": "python3"
  },
  "language_info": {
   "codemirror_mode": {
    "name": "ipython",
    "version": 3
   },
   "file_extension": ".py",
   "mimetype": "text/x-python",
   "name": "python",
   "nbconvert_exporter": "python",
   "pygments_lexer": "ipython3",
   "version": "3.10.15"
  }
 },
 "nbformat": 4,
 "nbformat_minor": 5
}
